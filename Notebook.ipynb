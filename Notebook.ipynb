{
 "cells": [
  {
   "cell_type": "markdown",
   "metadata": {},
   "source": [
    "Importing all dependencies"
   ]
  },
  {
   "cell_type": "code",
   "execution_count": 1,
   "metadata": {},
   "outputs": [],
   "source": [
    "import logging\n",
    "import sys\n",
    "logging.basicConfig(stream=sys.stdout, level=logging.INFO) #Provide use full information\n",
    "logging.getLogger().addHandler(logging.StreamHandler(stream=sys.stdout)) # Give messages that helps in monitoring\n",
    "from llama_index import (SimpleDirectoryReader,# To Read Unstructured data\n",
    "                         LLMPredictor,#Generating Predictions using LLM\n",
    "                         ServiceContext,#Supplies Contextual Data \n",
    "                         KnowledgeGraphIndex)#Both Construction and manipulation of of KG\n",
    "#\n",
    "from llama_index.graph_stores import SimpleGraphStore #For storing Graph data\n",
    "from llama_index.storage.storage_context import StorageContext\n",
    "from llama_index.llms import HuggingFaceInferenceAPI # Module to leverage Open source LLMs\n",
    "from langchain.embeddings import HuggingFaceInferenceAPIEmbeddings\n",
    "from llama_index.embeddings import LangchainEmbedding #For Embeddings\n",
    "from pyvis.network import Network"
   ]
  },
  {
   "cell_type": "markdown",
   "metadata": {},
   "source": [
    "Loading Open Source HuggingFace Models"
   ]
  },
  {
   "cell_type": "code",
   "execution_count": null,
   "metadata": {},
   "outputs": [],
   "source": []
  }
 ],
 "metadata": {
  "kernelspec": {
   "display_name": ".venv",
   "language": "python",
   "name": "python3"
  },
  "language_info": {
   "codemirror_mode": {
    "name": "ipython",
    "version": 3
   },
   "file_extension": ".py",
   "mimetype": "text/x-python",
   "name": "python",
   "nbconvert_exporter": "python",
   "pygments_lexer": "ipython3",
   "version": "3.10.10"
  }
 },
 "nbformat": 4,
 "nbformat_minor": 2
}
